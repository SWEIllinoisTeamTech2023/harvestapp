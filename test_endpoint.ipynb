{
  "nbformat": 4,
  "nbformat_minor": 0,
  "metadata": {
    "colab": {
      "provenance": []
    },
    "kernelspec": {
      "name": "python3",
      "display_name": "Python 3"
    },
    "language_info": {
      "name": "python"
    }
  },
  "cells": [
    {
      "cell_type": "code",
      "execution_count": null,
      "metadata": {
        "id": "mJkm39ZrSAj9"
      },
      "outputs": [],
      "source": [
        "def temporary_endpoint:\n",
        "  return {\"grain_loss\": 5, \"labor_cost\": 6, \"fuel_cost\": 7, \"depreciation_cost\": 8, \"total_costofharvest\": 9}"
      ]
    }
  ]
}